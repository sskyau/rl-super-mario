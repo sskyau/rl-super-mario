{
  "nbformat": 4,
  "nbformat_minor": 0,
  "metadata": {
    "colab": {
      "name": "super-mario-rl.ipynb",
      "provenance": [],
      "collapsed_sections": [],
      "authorship_tag": "ABX9TyMT8nwm9sMJbU37W3t59Z8e",
      "include_colab_link": true
    },
    "kernelspec": {
      "name": "python3",
      "display_name": "Python 3"
    },
    "language_info": {
      "name": "python"
    }
  },
  "cells": [
    {
      "cell_type": "markdown",
      "metadata": {
        "id": "view-in-github",
        "colab_type": "text"
      },
      "source": [
        "<a href=\"https://colab.research.google.com/github/sskyau/rl-super-mario/blob/main/super_mario_rl.ipynb\" target=\"_parent\"><img src=\"https://colab.research.google.com/assets/colab-badge.svg\" alt=\"Open In Colab\"/></a>"
      ]
    },
    {
      "cell_type": "markdown",
      "source": [
        "# CM50270 Final Project (Super Mario)"
      ],
      "metadata": {
        "id": "GM0T0sWTBkIj"
      }
    },
    {
      "cell_type": "code",
      "execution_count": null,
      "metadata": {
        "colab": {
          "base_uri": "https://localhost:8080/"
        },
        "id": "YHgVBGucBcWM",
        "outputId": "7bdc375d-6a11-4c4d-cf47-7a5d5a9d45cb"
      },
      "outputs": [
        {
          "output_type": "stream",
          "name": "stdout",
          "text": [
            "Requirement already satisfied: gym-super-mario-bros in /usr/local/lib/python3.7/dist-packages (7.3.2)\n",
            "Requirement already satisfied: nes-py>=8.1.2 in /usr/local/lib/python3.7/dist-packages (from gym-super-mario-bros) (8.1.8)\n",
            "Requirement already satisfied: tqdm>=4.48.2 in /usr/local/lib/python3.7/dist-packages (from nes-py>=8.1.2->gym-super-mario-bros) (4.63.0)\n",
            "Requirement already satisfied: pyglet<=1.5.11,>=1.4.0 in /usr/local/lib/python3.7/dist-packages (from nes-py>=8.1.2->gym-super-mario-bros) (1.5.0)\n",
            "Requirement already satisfied: gym>=0.17.2 in /usr/local/lib/python3.7/dist-packages (from nes-py>=8.1.2->gym-super-mario-bros) (0.17.3)\n",
            "Requirement already satisfied: numpy>=1.18.5 in /usr/local/lib/python3.7/dist-packages (from nes-py>=8.1.2->gym-super-mario-bros) (1.21.5)\n",
            "Requirement already satisfied: scipy in /usr/local/lib/python3.7/dist-packages (from gym>=0.17.2->nes-py>=8.1.2->gym-super-mario-bros) (1.4.1)\n",
            "Requirement already satisfied: cloudpickle<1.7.0,>=1.2.0 in /usr/local/lib/python3.7/dist-packages (from gym>=0.17.2->nes-py>=8.1.2->gym-super-mario-bros) (1.3.0)\n",
            "Requirement already satisfied: future in /usr/local/lib/python3.7/dist-packages (from pyglet<=1.5.11,>=1.4.0->nes-py>=8.1.2->gym-super-mario-bros) (0.16.0)\n"
          ]
        }
      ],
      "source": [
        "pip install gym-super-mario-bros"
      ]
    },
    {
      "cell_type": "markdown",
      "source": [
        "## Initialise the environment"
      ],
      "metadata": {
        "id": "oVgn-80tCZrs"
      }
    },
    {
      "cell_type": "code",
      "source": [
        "from nes_py.wrappers import JoypadSpace\n",
        "import gym\n",
        "import gym_super_mario_bros\n",
        "from gym_super_mario_bros.actions import SIMPLE_MOVEMENT\n",
        "from gym import wrappers\n",
        "from gym.wrappers.gray_scale_observation import GrayScaleObservation\n",
        "from gym.wrappers.frame_stack import FrameStack\n",
        "from gym.wrappers.resize_observation import ResizeObservation\n",
        "import numpy as np"
      ],
      "metadata": {
        "id": "C6iTdsWgCZIF"
      },
      "execution_count": null,
      "outputs": []
    },
    {
      "cell_type": "code",
      "source": [
        "# Initialise the super mario bros environment\n",
        "env = gym_super_mario_bros.make('SuperMarioBros-v0')\n",
        "\n",
        "# Define actions available to the agent (https://github.com/Kautenja/gym-super-mario-bros/blob/master/gym_super_mario_bros/actions.py)\n",
        "# - RIGHT_ONLY: actions always involve right button \n",
        "# - SIMPLE_MOVEMENT: RIGHT_ONLY + 'A' + 'left'\n",
        "# - COMPLEX_MOVEMENT: all possible controls\n",
        "env = JoypadSpace(env, SIMPLE_MOVEMENT)\n",
        "\n",
        "# Save video of training in videos folder\n",
        "#video_every = 1\n",
        "#env = wrappers.Monitor(env, \"./video\", video_callable=lambda episode_id: (episode_id%video_every)==0, force=True)"
      ],
      "metadata": {
        "id": "zMyMPuDoBoY0"
      },
      "execution_count": null,
      "outputs": []
    },
    {
      "cell_type": "code",
      "source": [
        "# Original observation returned in state: (240, 256, 3)\n",
        "\n",
        "# Custom wrapper to aggregate rewards in n-frames as consecutive frames might not vary much\n",
        "class SkipFrame(gym.Wrapper):\n",
        "\n",
        "  def __init__(self, env, n):\n",
        "    super().__init__(env)\n",
        "    self._n = n\n",
        "  \n",
        "  def step(self, action):\n",
        "    sum_rewards = 0\n",
        "    \n",
        "    # Re-run every step in the n-frames and accumulate the info to return\n",
        "    done = False\n",
        "    for i in range (self._n):\n",
        "      state, reward, done, info = self.env.step(action)\n",
        "      sum_rewards += reward\n",
        "      if done:\n",
        "        break\n",
        "\n",
        "    return state, sum_rewards, done, info\n",
        "\n",
        "env.reset()\n",
        "env = SkipFrame(env, n=4)\n",
        "\n",
        "# Convert observation to grayscale (reduce size of state representation without losing information)\n",
        "env = GrayScaleObservation(env)\n",
        "\n",
        "# Downsize frames (state representation)\n",
        "size = 84\n",
        "env = ResizeObservation(env, size)\n",
        "\n",
        "# Stack frames together to identiy actions such as landing and jumping\n",
        "num_stack = 4\n",
        "env = FrameStack(env, num_stack)"
      ],
      "metadata": {
        "id": "ooTfNbRvJEeQ"
      },
      "execution_count": null,
      "outputs": []
    },
    {
      "cell_type": "code",
      "source": [
        "# Testing the environment\n",
        "done = True\n",
        "\n",
        "env.reset()\n",
        "state, reward, done, info = env.step(env.action_space.sample())\n",
        "env.close()\n",
        "\n",
        "print(state.shape)"
      ],
      "metadata": {
        "id": "2af1qDzoLIw7"
      },
      "execution_count": null,
      "outputs": []
    },
    {
      "cell_type": "markdown",
      "source": [
        "## Agents"
      ],
      "metadata": {
        "id": "FEWm_xLgd3AV"
      }
    },
    {
      "cell_type": "code",
      "source": [
        "class DQN_Mario:\n",
        "  def __init__():\n",
        "    pass\n",
        "  \n",
        "  "
      ],
      "metadata": {
        "id": "6VBI_DK_d2E8"
      },
      "execution_count": null,
      "outputs": []
    }
  ]
}